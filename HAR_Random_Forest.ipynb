{
 "cells": [
  {
   "cell_type": "code",
   "execution_count": 1,
   "metadata": {},
   "outputs": [],
   "source": [
    "import os\n",
    "import numpy as np\n",
    "import pandas as pd\n",
    "import matplotlib.pyplot as plt\n",
    "import sklearn\n",
    "%matplotlib inline\n",
    "from sklearn.externals.six.moves import zip\n",
    "import matplotlib.pyplot as plt\n",
    "from sklearn.ensemble import AdaBoostClassifier\n",
    "from sklearn.metrics import accuracy_score\n",
    "from sklearn.tree import DecisionTreeClassifier\n",
    "from sklearn.ensemble import RandomForestClassifier\n",
    "from sklearn.metrics import confusion_matrix\n",
    "from sklearn.model_selection import train_test_split\n",
    "from sklearn.utils.multiclass import unique_labels"
   ]
  },
  {
   "cell_type": "markdown",
   "metadata": {},
   "source": [
    "### 1.剃除非數值資料\n",
    "### 2.剔除nan\n",
    "### 3.原本資料是有按類別排列，亂序後分割測試資料\n",
    "### 4.類別轉化成離散數值"
   ]
  },
  {
   "cell_type": "code",
   "execution_count": 3,
   "metadata": {},
   "outputs": [],
   "source": [
    "def Data_preprocessing (DataFrame):\n",
    "    # Drop Non-numeric data\n",
    "    train_drop = train.dropna(axis = 1).drop([\"Unnamed: 0\",\"user_name\",\"raw_timestamp_part_1\",\"raw_timestamp_part_2\",\"cvtd_timestamp\",\"new_window\",\"num_window\"],axis=1)\n",
    "    # shuffle data \n",
    "    train_shuffle = train_drop.sample(frac=1).reset_index(drop=True)\n",
    "    # map class labels words to numbers\n",
    "    class_mapping = {'A':0,'B':1,'C':2,'D':3,'E':4}\n",
    "    labels = train_shuffle [\"classe\"].map(class_mapping).values\n",
    "    # drop classe make it become traing data\n",
    "    data = train_shuffle.drop([\"classe\"],axis=1).values\n",
    "    return data,labels"
   ]
  },
  {
   "cell_type": "markdown",
   "metadata": {},
   "source": [
    "### 繪製confusion_matrix"
   ]
  },
  {
   "cell_type": "code",
   "execution_count": 5,
   "metadata": {},
   "outputs": [],
   "source": [
    "def plot_confusion_matrix(y_true, y_pred, classes,\n",
    "                          normalize=False,\n",
    "                          title=None,\n",
    "                          cmap=plt.cm.Blues):\n",
    "    \"\"\"\n",
    "    This function prints and plots the confusion matrix.\n",
    "    Normalization can be applied by setting `normalize=True`.\n",
    "    \"\"\"\n",
    "    if not title:\n",
    "        if normalize:\n",
    "            title = 'Normalized confusion matrix'\n",
    "        else:\n",
    "            title = 'Confusion matrix, without normalization'\n",
    "\n",
    "    # Compute confusion matrix\n",
    "    cm = confusion_matrix(y_true, y_pred)\n",
    "    # Only use the labels that appear in the data\n",
    "\n",
    "    if normalize:\n",
    "        cm = cm.astype('float') / cm.sum(axis=1)[:, np.newaxis]\n",
    "        print(\"Normalized confusion matrix\")\n",
    "    else:\n",
    "        print('Confusion matrix, without normalization')\n",
    "\n",
    "    print(cm)\n",
    "\n",
    "    fig, ax = plt.subplots()\n",
    "    im = ax.imshow(cm, interpolation='nearest', cmap=cmap)\n",
    "    ax.figure.colorbar(im, ax=ax)\n",
    "    # We want to show all ticks...\n",
    "    ax.set(xticks=np.arange(cm.shape[1]),\n",
    "           yticks=np.arange(cm.shape[0]),\n",
    "           # ... and label them with the respective list entries\n",
    "           xticklabels=classes, yticklabels=classes,\n",
    "           title=title,\n",
    "           ylabel='True label',\n",
    "           xlabel='Predicted label')\n",
    "\n",
    "    # Rotate the tick labels and set their alignment.\n",
    "    plt.setp(ax.get_xticklabels(), rotation=45, ha=\"right\",\n",
    "             rotation_mode=\"anchor\")\n",
    "\n",
    "    # Loop over data dimensions and create text annotations.\n",
    "    fmt = '.2f' if normalize else 'd'\n",
    "    thresh = cm.max() / 2.\n",
    "    for i in range(cm.shape[0]):\n",
    "        for j in range(cm.shape[1]):\n",
    "            ax.text(j, i, format(cm[i, j], fmt),\n",
    "                    ha=\"center\", va=\"center\",\n",
    "                    color=\"white\" if cm[i, j] > thresh else \"black\")\n",
    "    fig.tight_layout()\n",
    "    return ax"
   ]
  },
  {
   "cell_type": "code",
   "execution_count": 6,
   "metadata": {},
   "outputs": [
    {
     "name": "stdout",
     "output_type": "stream",
     "text": [
      "Path of read in data: C:/Users/IRIS168\\pml-training.csv\n"
     ]
    },
    {
     "name": "stderr",
     "output_type": "stream",
     "text": [
      "C:\\Users\\IRIS168\\Anaconda3\\envs\\tensorflow_gpu\\lib\\site-packages\\IPython\\core\\interactiveshell.py:3049: DtypeWarning: Columns (11,14,19,22,25,70,73,86,87,89,90,94,97,100) have mixed types. Specify dtype option on import or set low_memory=False.\n",
      "  interactivity=interactivity, compiler=compiler, result=result)\n"
     ]
    },
    {
     "data": {
      "text/plain": [
       "(19622, 160)"
      ]
     },
     "execution_count": 6,
     "metadata": {},
     "output_type": "execute_result"
    }
   ],
   "source": [
    "# Setting data_path Input trining data\n",
    "dir_data = 'C:/Users/IRIS168'\n",
    "f_train = os.path.join(dir_data, 'pml-training.csv')\n",
    "print('Path of read in data: %s' % (f_train))\n",
    "train = pd.read_csv(f_train)\n",
    "train.shape"
   ]
  },
  {
   "cell_type": "code",
   "execution_count": null,
   "metadata": {},
   "outputs": [],
   "source": []
  },
  {
   "cell_type": "code",
   "execution_count": 7,
   "metadata": {},
   "outputs": [],
   "source": [
    "data,labels =  Data_preprocessing (train)"
   ]
  },
  {
   "cell_type": "code",
   "execution_count": 8,
   "metadata": {},
   "outputs": [],
   "source": [
    "# Partition data\n",
    "n_split = 15000\n",
    "data_train, data_test = data[:n_split], data[n_split:]\n",
    "labels_train, labels_test = labels[:n_split], labels[n_split:]"
   ]
  },
  {
   "cell_type": "code",
   "execution_count": 23,
   "metadata": {},
   "outputs": [
    {
     "name": "stdout",
     "output_type": "stream",
     "text": [
      "[0.0953448  0.04606453 0.06060397 0.01709917 0.00510059 0.00691384\n",
      " 0.01781397 0.00694201 0.00805136 0.02944661 0.01448047 0.02962749\n",
      " 0.02854278 0.0200126  0.00956136 0.01439503 0.00445498 0.00589073\n",
      " 0.00587842 0.00184514 0.01443446 0.00795412 0.00561276 0.01697151\n",
      " 0.01370358 0.01012332 0.02876454 0.01134595 0.01438579 0.01903991\n",
      " 0.00708396 0.01477907 0.00330729 0.01846748 0.03058903 0.01982952\n",
      " 0.03315466 0.0454398  0.04914612 0.03774131 0.06033399 0.00853668\n",
      " 0.0069785  0.00273316 0.00520863 0.00297065 0.0215731  0.00587838\n",
      " 0.01371026 0.01282831 0.01133783 0.01796648]\n"
     ]
    }
   ],
   "source": [
    "# Training randomforest\n",
    "clf = RandomForestClassifier(n_estimators=200, max_depth=12,random_state=0)\n",
    "clf.fit(data_train, labels_train)\n",
    "print(clf.feature_importances_)\n",
    "y_pred = clf.predict(data_test)"
   ]
  },
  {
   "cell_type": "code",
   "execution_count": 24,
   "metadata": {},
   "outputs": [
    {
     "name": "stdout",
     "output_type": "stream",
     "text": [
      "Confusion matrix, without normalization\n",
      "[[1325    1    1    5    1]\n",
      " [  16  834   13    3    0]\n",
      " [   0   10  781    3    0]\n",
      " [   0    0   60  730    0]\n",
      " [   0    0    9   15  815]]\n",
      "Normalized confusion matrix\n",
      "[[9.93998500e-01 7.50187547e-04 7.50187547e-04 3.75093773e-03\n",
      "  7.50187547e-04]\n",
      " [1.84757506e-02 9.63048499e-01 1.50115473e-02 3.46420323e-03\n",
      "  0.00000000e+00]\n",
      " [0.00000000e+00 1.25944584e-02 9.83627204e-01 3.77833753e-03\n",
      "  0.00000000e+00]\n",
      " [0.00000000e+00 0.00000000e+00 7.59493671e-02 9.24050633e-01\n",
      "  0.00000000e+00]\n",
      " [0.00000000e+00 0.00000000e+00 1.07270560e-02 1.78784267e-02\n",
      "  9.71394517e-01]]\n"
     ]
    },
    {
     "data": {
      "text/plain": [
       "<matplotlib.axes._subplots.AxesSubplot at 0x1d60256d2e8>"
      ]
     },
     "execution_count": 24,
     "metadata": {},
     "output_type": "execute_result"
    },
    {
     "data": {
      "image/png": "[encoded data removed]",
      "text/plain": [
       "<Figure size 432x288 with 2 Axes>"
      ]
     },
     "metadata": {
      "needs_background": "light"
     },
     "output_type": "display_data"
    },
    {
     "data": {
      "image/png": "[encoded data removed]",
      "text/plain": [
       "<Figure size 432x288 with 2 Axes>"
      ]
     },
     "metadata": {
      "needs_background": "light"
     },
     "output_type": "display_data"
    }
   ],
   "source": [
    "# Plot Randomforest non-normalized confusion matrix\n",
    "plot_confusion_matrix(labels_test, y_pred, classes=['A','B','C','D','E'],\n",
    "                      title='Confusion matrix, without normalization')\n",
    "# Plot Randomforest normalized confusion matrix\n",
    "plot_confusion_matrix(labels_test, y_pred, classes=['A','B','C','D','E'], normalize=True,\n",
    "                      title='Normalized confusion matrix')"
   ]
  },
  {
   "cell_type": "markdown",
   "metadata": {},
   "source": [
    "### Result Prediction"
   ]
  },
  {
   "cell_type": "code",
   "execution_count": 25,
   "metadata": {},
   "outputs": [
    {
     "name": "stdout",
     "output_type": "stream",
     "text": [
      "Path of read in data: C:/Users/IRIS168\\pml-testing.csv\n"
     ]
    },
    {
     "data": {
      "text/plain": [
       "(20, 160)"
      ]
     },
     "execution_count": 25,
     "metadata": {},
     "output_type": "execute_result"
    }
   ],
   "source": [
    "# Input Testing data\n",
    "f_test = os.path.join(dir_data, 'pml-testing.csv')\n",
    "print('Path of read in data: %s' % (f_test))\n",
    "test = pd.read_csv(f_test)\n",
    "test.shape"
   ]
  },
  {
   "cell_type": "code",
   "execution_count": 26,
   "metadata": {},
   "outputs": [
    {
     "data": {
      "text/plain": [
       "array([[ 1.23e+02,  2.70e+01, -4.75e+00, ..., -7.14e+02,  4.19e+02,\n",
       "         6.17e+02],\n",
       "       [ 1.02e+00,  4.87e+00, -8.89e+01, ..., -2.37e+02,  7.91e+02,\n",
       "         8.73e+02],\n",
       "       [ 8.70e-01,  1.82e+00, -8.85e+01, ..., -5.10e+01,  6.98e+02,\n",
       "         7.83e+02],\n",
       "       ...,\n",
       "       [ 9.20e-01,  5.31e+00, -9.31e+01, ..., -5.00e+02, -2.32e+02,\n",
       "         3.29e+02],\n",
       "       [ 1.23e+02,  2.67e+01, -2.68e+00, ..., -6.14e+02, -4.60e+01,\n",
       "         4.71e+02],\n",
       "       [ 1.40e+00,  3.20e+00, -8.87e+01, ...,  7.00e+01, -7.03e+02,\n",
       "         7.40e+01]])"
      ]
     },
     "execution_count": 26,
     "metadata": {},
     "output_type": "execute_result"
    }
   ],
   "source": [
    "# Drop Non-numeric data\n",
    "test = test.dropna(axis = 1).drop([\"Unnamed: 0\",\"user_name\",\"raw_timestamp_part_1\",\"raw_timestamp_part_2\",\"cvtd_timestamp\",\"new_window\",\"num_window\",\"problem_id\"],axis=1).values\n",
    "test"
   ]
  },
  {
   "cell_type": "code",
   "execution_count": 27,
   "metadata": {},
   "outputs": [],
   "source": [
    "y_pred = clf.predict(test)"
   ]
  },
  {
   "cell_type": "code",
   "execution_count": 28,
   "metadata": {},
   "outputs": [
    {
     "data": {
      "text/plain": [
       "array([1, 0, 1, 0, 0, 4, 3, 3, 0, 0, 1, 2, 1, 0, 4, 4, 0, 1, 1, 1],\n",
       "      dtype=int64)"
      ]
     },
     "execution_count": 28,
     "metadata": {},
     "output_type": "execute_result"
    }
   ],
   "source": [
    "y_pred"
   ]
  },
  {
   "cell_type": "code",
   "execution_count": null,
   "metadata": {},
   "outputs": [],
   "source": []
  }
 ],
 "metadata": {
  "kernelspec": {
   "display_name": "Python 3",
   "language": "python",
   "name": "python3"
  },
  "language_info": {
   "codemirror_mode": {
    "name": "ipython",
    "version": 3
   },
   "file_extension": ".py",
   "mimetype": "text/x-python",
   "name": "python",
   "nbconvert_exporter": "python",
   "pygments_lexer": "ipython3",
   "version": "3.6.8"
  }
 },
 "nbformat": 4,
 "nbformat_minor": 2
}
